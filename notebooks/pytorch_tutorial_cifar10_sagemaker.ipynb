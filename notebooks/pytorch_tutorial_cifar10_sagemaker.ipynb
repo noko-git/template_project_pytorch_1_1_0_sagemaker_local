{
 "cells": [
  {
   "cell_type": "markdown",
   "metadata": {},
   "source": [
    "https://github.com/awslabs/amazon-sagemaker-examples/blob/master/sagemaker-python-sdk/pytorch_cnn_cifar10/pytorch_local_mode_cifar10.ipynb"
   ]
  },
  {
   "cell_type": "markdown",
   "metadata": {},
   "source": [
    "## データ準備"
   ]
  },
  {
   "cell_type": "code",
   "execution_count": null,
   "metadata": {},
   "outputs": [],
   "source": [
    "import sagemaker\n",
    "\n",
    "sagemaker_session = sagemaker.Session()\n",
    "\n",
    "bucket = sagemaker_session.default_bucket() # ex. 'sagemaker-us-east-2-xxxxxxxxxxxx'\n",
    "\n",
    "role = sagemaker.get_execution_role() # ex. arn:aws:iam::xxxxxxxxxxxx:role/service-role/..."
   ]
  },
  {
   "cell_type": "code",
   "execution_count": null,
   "metadata": {},
   "outputs": [],
   "source": [
    "# We use the sagemaker.Session.upload_data function to upload our datasets to an S3 location. \n",
    "# The return value inputs identifies the location -- we will use this later when we start the training job.\n",
    "inputs = sagemaker_session.upload_data(path='../data/raw', bucket=bucket, key_prefix='data/raw/cifar10') # ex. s3://sagemaker-us-east-2-xxxxxxxxxxxx/data/raw/cifar10"
   ]
  },
  {
   "cell_type": "markdown",
   "metadata": {},
   "source": [
    "## インスタンスタイプ設定"
   ]
  },
  {
   "cell_type": "code",
   "execution_count": null,
   "metadata": {},
   "outputs": [],
   "source": [
    "import subprocess\n",
    "\n",
    "# instance_type = 'local'\n",
    "instance_type = 'ml.m5.large'\n",
    "\n",
    "if subprocess.call('nvidia-smi') == 0:\n",
    "    ## Set type to GPU if one is present\n",
    "    instance_type = 'local_gpu'\n",
    "    \n",
    "print(\"Instance type = \" + instance_type)"
   ]
  },
  {
   "cell_type": "markdown",
   "metadata": {},
   "source": [
    "## 学習コンテナ起動"
   ]
  },
  {
   "cell_type": "markdown",
   "metadata": {},
   "source": [
    "default"
   ]
  },
  {
   "cell_type": "code",
   "execution_count": null,
   "metadata": {
    "jupyter": {
     "outputs_hidden": true
    }
   },
   "outputs": [],
   "source": [
    "from sagemaker.pytorch import PyTorch\n",
    "# from datetime import datetime, timedelta, timezone\n",
    "\n",
    "# estimator\n",
    "hyper_param = {\n",
    "    'workers': 2,\n",
    "    'epochs':2,\n",
    "    'batch_size': 4,\n",
    "    'lr': 0.001,\n",
    "    'momentum': 0.9,\n",
    "}\n",
    "\n",
    "cifar10_estimator = PyTorch(entry_point='../models/cifar10_sagemaker.py',\n",
    "                            hyperparameters=hyper_param,\n",
    "                            role=role,\n",
    "                            framework_version='1.1.0',\n",
    "                            train_instance_count=1,\n",
    "                            train_instance_type=instance_type)\n",
    "\n",
    "# fit\n",
    "# date = datetime.now(timezone(timedelta(hours=+9), 'JST')).strftime(\"%Y%m%d%H%M\")\n",
    "\n",
    "cifar10_estimator.fit(\n",
    "    inputs=inputs,\n",
    "#     job_name='' + date,\n",
    ")"
   ]
  },
  {
   "cell_type": "markdown",
   "metadata": {},
   "source": [
    "hyperparameter tuning"
   ]
  },
  {
   "cell_type": "code",
   "execution_count": null,
   "metadata": {},
   "outputs": [],
   "source": [
    "# from sagemaker.pytorch import PyTorch\n",
    "# from datetime import datetime, timedelta, timezone\n",
    "# from sagemaker.tuner import IntegerParameter, ContinuousParameter, HyperparameterTuner\n",
    "\n",
    "# # estimator\n",
    "# hyper_param = {\n",
    "#     'workers': 2,\n",
    "#     'epochs':2,\n",
    "#     'batch_size': 4,\n",
    "#     'lr': 0.001,\n",
    "#     'momentum': 0.9,\n",
    "# }\n",
    "\n",
    "# cifar10_estimator = PyTorch(entry_point='../models/cifar10_sagemaker.py',\n",
    "#                             hyperparameters=hyper_param,\n",
    "#                             role=role,\n",
    "#                             framework_version='1.1.0',\n",
    "#                             train_instance_count=1,\n",
    "#                             train_instance_type=instance_type)\n",
    "\n",
    "# # tuner\n",
    "# hyperparameter_ranges = {\n",
    "#     'batch_size': IntegerParameter(4, 64),\n",
    "#     'lr': ContinuousParameter(1e-4, 0.1),\n",
    "#     'momentum': ContinuousParameter(0.5, 0.9)\n",
    "# }\n",
    "# metric_definitions = [\n",
    "#     {'Name': 'loss', 'Regex': 'loss: (\\S+)'}\n",
    "# ]\n",
    "\n",
    "# cifar10_tuner = HyperparameterTuner(estimator=cifar10_estimator,\n",
    "#                                     objective_metric_name='loss',\n",
    "#                                     objective_type='Minimize',\n",
    "#                                     hyperparameter_ranges=hyperparameter_ranges,\n",
    "#                                     metric_definitions=metric_definitions,\n",
    "#                                     max_jobs=1,\n",
    "#                                     max_parallel_jobs=1,\n",
    "#                                     early_stopping_type='Auto')\n",
    "\n",
    "# # fit\n",
    "# # date = datetime.now(timezone(timedelta(hours=+9), 'JST')).strftime(\"%Y%m%d%H%M\")\n",
    "\n",
    "# cifar10_tuner.fit(\n",
    "#     inputs=inputs\n",
    "# #     job_name='' + date,\n",
    "# )"
   ]
  },
  {
   "cell_type": "markdown",
   "metadata": {},
   "source": [
    "## 推論エンドポイント起動"
   ]
  },
  {
   "cell_type": "markdown",
   "metadata": {},
   "source": [
    "Amazon SageMaker Python SDK"
   ]
  },
  {
   "cell_type": "code",
   "execution_count": null,
   "metadata": {},
   "outputs": [],
   "source": [
    "from sagemaker.pytorch import PyTorchModel\n",
    "\n",
    "cifar10_predictor = cifar10_estimator.deploy(initial_instance_count=1,\n",
    "                                             instance_type=instance_type)"
   ]
  },
  {
   "cell_type": "markdown",
   "metadata": {},
   "source": [
    "AWS SDK for Python (Boto3)"
   ]
  },
  {
   "cell_type": "code",
   "execution_count": null,
   "metadata": {},
   "outputs": [],
   "source": [
    "# # TODO\n",
    "# # モデル作成\n",
    "# import boto3\n",
    "# sm = boto3.client('sagemaker')\n",
    "\n",
    "# training_job_name = 'sagemaker-pytorch-xxxxxxxx'\n",
    "# model_name = training_job_name + '-mod'\n",
    "# container = '520713654638.dkr.ecr.us-east-2.amazonaws.com/sagemaker-pytorch:1.1.0-cpu-py3'\n",
    "\n",
    "# info = sm.describe_training_job(TrainingJobName=training_job_name)\n",
    "# model_data = info['ModelArtifacts']['S3ModelArtifacts']\n",
    "# print(model_data)\n",
    "\n",
    "# primary_container = {\n",
    "#     'Image': container,\n",
    "#     'ModelDataUrl': model_data\n",
    "# }\n",
    "\n",
    "# create_model_response = sm.create_model(\n",
    "#                             ModelName = model_name,\n",
    "#                             ExecutionRoleArn = role,\n",
    "#                             PrimaryContainer = primary_container\n",
    "#                         )\n",
    "\n",
    "# print(create_model_response['ModelArn'])"
   ]
  },
  {
   "cell_type": "code",
   "execution_count": null,
   "metadata": {},
   "outputs": [],
   "source": [
    "# # エンドポイント設定\n",
    "# from datetime import datetime, timedelta, timezone\n",
    "# date = datetime.now(timezone(timedelta(hours=+9), 'JST')).strftime(\"%Y%m%d%H%M\")\n",
    "# endpoint_config_name = 'cifar10-' + date \n",
    "# print(endpoint_config_name)\n",
    "\n",
    "# create_endpoint_config_response = sm.create_endpoint_config(\n",
    "#     EndpointConfigName = endpoint_config_name,\n",
    "#     ProductionVariants=[{\n",
    "#         'InstanceType':'ml.m4.xlarge',\n",
    "#         'InitialVariantWeight':1,\n",
    "#         'InitialInstanceCount':1,\n",
    "#         'ModelName':model_name,\n",
    "#         'VariantName':'AllTraffic'}])\n",
    "\n",
    "# print(\"Endpoint Config Arn: \" + create_endpoint_config_response['EndpointConfigArn'])"
   ]
  },
  {
   "cell_type": "code",
   "execution_count": null,
   "metadata": {},
   "outputs": [],
   "source": [
    "# %%time\n",
    "# # エンドポイント作成\n",
    "# import time\n",
    "\n",
    "# endpoint_name = 'cifar10-' + date\n",
    "# print(endpoint_name)\n",
    "\n",
    "# create_endpoint_response = sm.create_endpoint(\n",
    "#                                 EndpointName=endpoint_name,\n",
    "#                                 EndpointConfigName=endpoint_config_name)\n",
    "# print(create_endpoint_response['EndpointArn'])\n",
    "\n",
    "# resp = sm.describe_endpoint(EndpointName=endpoint_name)\n",
    "# status = resp['EndpointStatus']\n",
    "# print(\"Status: \" + status)\n",
    "\n",
    "# while status=='Creating':\n",
    "#     time.sleep(60)\n",
    "#     resp = sm.describe_endpoint(EndpointName=endpoint_name)\n",
    "#     status = resp['EndpointStatus']\n",
    "#     print(\"Status: \" + status)\n",
    "\n",
    "# print(\"Arn: \" + resp['EndpointArn'])\n",
    "# print(\"Status: \" + status)"
   ]
  },
  {
   "cell_type": "markdown",
   "metadata": {},
   "source": [
    "## 推論実行"
   ]
  },
  {
   "cell_type": "markdown",
   "metadata": {},
   "source": [
    "Amazon SageMaker Python SDK"
   ]
  },
  {
   "cell_type": "code",
   "execution_count": null,
   "metadata": {},
   "outputs": [],
   "source": [
    "# テストデータ準備\n",
    "import torch\n",
    "import torchvision\n",
    "import torchvision.transforms as transforms\n",
    "\n",
    "transform = transforms.Compose(\n",
    "    [transforms.ToTensor(),\n",
    "     transforms.Normalize((0.5, 0.5, 0.5), (0.5, 0.5, 0.5))])\n",
    "\n",
    "testset = torchvision.datasets.CIFAR10(root='./data', train=False,\n",
    "                                       download=True, transform=transform)\n",
    "testloader = torch.utils.data.DataLoader(testset, batch_size=4,\n",
    "                                         shuffle=False, num_workers=2)\n",
    "\n",
    "classes = ('plane', 'car', 'bird', 'cat',\n",
    "           'deer', 'dog', 'frog', 'horse', 'ship', 'truck')"
   ]
  },
  {
   "cell_type": "code",
   "execution_count": null,
   "metadata": {},
   "outputs": [],
   "source": [
    "# 画像表示準備\n",
    "import matplotlib.pyplot as plt\n",
    "import numpy as np\n",
    "%matplotlib inline\n",
    "\n",
    "def imshow(img):\n",
    "    img = img / 2 + 0.5     # unnormalize\n",
    "    npimg = img.numpy()\n",
    "    plt.imshow(np.transpose(npimg, (1, 2, 0)))\n",
    "    plt.show()"
   ]
  },
  {
   "cell_type": "code",
   "execution_count": null,
   "metadata": {},
   "outputs": [],
   "source": [
    "# 推論実行（サンプル）\n",
    "dataiter = iter(testloader)\n",
    "images, labels = dataiter.next()\n",
    "\n",
    "# print images\n",
    "imshow(torchvision.utils.make_grid(images))\n",
    "print('GroundTruth: ', ' '.join('%4s' % classes[labels[j]] for j in range(4)))\n",
    "\n",
    "outputs = cifar10_predictor.predict(images.numpy())\n",
    "\n",
    "_, predicted = torch.max(torch.from_numpy(np.array(outputs)), 1)\n",
    "\n",
    "print('Predicted: ', ' '.join('%4s' % classes[predicted[j]]\n",
    "                              for j in range(4)))"
   ]
  },
  {
   "cell_type": "code",
   "execution_count": null,
   "metadata": {},
   "outputs": [],
   "source": [
    "# 推論実行（精度算出）\n",
    "correct = 0\n",
    "total = 0\n",
    "with torch.no_grad():\n",
    "    for data in testloader:\n",
    "        images, labels = data\n",
    "        outputs = cifar10_predictor.predict(images.numpy())\n",
    "        _, predicted = torch.max(torch.from_numpy(np.array(outputs)), 1)\n",
    "        total += labels.size(0)\n",
    "        correct += (predicted == labels).sum().item()\n",
    "\n",
    "print('Accuracy of the network on the 10000 test images: %d %%' % (\n",
    "    100 * correct / total))"
   ]
  },
  {
   "cell_type": "markdown",
   "metadata": {},
   "source": [
    "AWS SDK for Python (Boto3)"
   ]
  },
  {
   "cell_type": "code",
   "execution_count": null,
   "metadata": {},
   "outputs": [],
   "source": [
    "# TODO"
   ]
  },
  {
   "cell_type": "markdown",
   "metadata": {},
   "source": [
    "## 推論エンドポイント削除"
   ]
  },
  {
   "cell_type": "markdown",
   "metadata": {},
   "source": [
    "Amazon SageMaker Python SDK"
   ]
  },
  {
   "cell_type": "code",
   "execution_count": null,
   "metadata": {
    "jupyter": {
     "outputs_hidden": true
    }
   },
   "outputs": [],
   "source": [
    "# cifar10_estimator.delete_endpoint()"
   ]
  },
  {
   "cell_type": "markdown",
   "metadata": {},
   "source": [
    "AWS SDK for Python (Boto3)"
   ]
  },
  {
   "cell_type": "code",
   "execution_count": null,
   "metadata": {},
   "outputs": [],
   "source": [
    "# TODO"
   ]
  }
 ],
 "metadata": {
  "kernelspec": {
   "display_name": "conda_pytorch_p36",
   "language": "python",
   "name": "conda_pytorch_p36"
  },
  "language_info": {
   "codemirror_mode": {
    "name": "ipython",
    "version": 3
   },
   "file_extension": ".py",
   "mimetype": "text/x-python",
   "name": "python",
   "nbconvert_exporter": "python",
   "pygments_lexer": "ipython3",
   "version": "3.6.5"
  }
 },
 "nbformat": 4,
 "nbformat_minor": 4
}
